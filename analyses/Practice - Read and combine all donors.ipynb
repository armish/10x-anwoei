{
 "cells": [
  {
   "cell_type": "code",
   "execution_count": 1,
   "metadata": {},
   "outputs": [
    {
     "name": "stderr",
     "output_type": "stream",
     "text": [
      "\n",
      "Attaching package: ‘dplyr’\n",
      "\n",
      "The following objects are masked from ‘package:stats’:\n",
      "\n",
      "    filter, lag\n",
      "\n",
      "The following objects are masked from ‘package:base’:\n",
      "\n",
      "    intersect, setdiff, setequal, union\n",
      "\n",
      "\n",
      "Attaching package: ‘magrittr’\n",
      "\n",
      "The following object is masked from ‘package:tidyr’:\n",
      "\n",
      "    extract\n",
      "\n",
      "\n",
      "Attaching package: ‘purrr’\n",
      "\n",
      "The following object is masked from ‘package:magrittr’:\n",
      "\n",
      "    set_names\n",
      "\n"
     ]
    }
   ],
   "source": [
    "library('readr')\n",
    "library('tidyr')\n",
    "library('dplyr')\n",
    "library('magrittr')\n",
    "library('ggplot2')\n",
    "library('stringr')\n",
    "library('purrr')"
   ]
  },
  {
   "cell_type": "code",
   "execution_count": 2,
   "metadata": {},
   "outputs": [
    {
     "data": {
      "text/html": [
       "<ol class=list-inline>\n",
       "\t<li>'../data//vdj_v1_hs_aggregated_donor1_binarized_matrix.csv'</li>\n",
       "\t<li>'../data//vdj_v1_hs_aggregated_donor2_binarized_matrix.csv'</li>\n",
       "\t<li>'../data//vdj_v1_hs_aggregated_donor3_binarized_matrix.csv'</li>\n",
       "\t<li>'../data//vdj_v1_hs_aggregated_donor4_binarized_matrix.csv'</li>\n",
       "</ol>\n"
      ],
      "text/latex": [
       "\\begin{enumerate*}\n",
       "\\item '../data//vdj\\_v1\\_hs\\_aggregated\\_donor1\\_binarized\\_matrix.csv'\n",
       "\\item '../data//vdj\\_v1\\_hs\\_aggregated\\_donor2\\_binarized\\_matrix.csv'\n",
       "\\item '../data//vdj\\_v1\\_hs\\_aggregated\\_donor3\\_binarized\\_matrix.csv'\n",
       "\\item '../data//vdj\\_v1\\_hs\\_aggregated\\_donor4\\_binarized\\_matrix.csv'\n",
       "\\end{enumerate*}\n"
      ],
      "text/markdown": [
       "1. '../data//vdj_v1_hs_aggregated_donor1_binarized_matrix.csv'\n",
       "2. '../data//vdj_v1_hs_aggregated_donor2_binarized_matrix.csv'\n",
       "3. '../data//vdj_v1_hs_aggregated_donor3_binarized_matrix.csv'\n",
       "4. '../data//vdj_v1_hs_aggregated_donor4_binarized_matrix.csv'\n",
       "\n",
       "\n"
      ],
      "text/plain": [
       "[1] \"../data//vdj_v1_hs_aggregated_donor1_binarized_matrix.csv\"\n",
       "[2] \"../data//vdj_v1_hs_aggregated_donor2_binarized_matrix.csv\"\n",
       "[3] \"../data//vdj_v1_hs_aggregated_donor3_binarized_matrix.csv\"\n",
       "[4] \"../data//vdj_v1_hs_aggregated_donor4_binarized_matrix.csv\""
      ]
     },
     "metadata": {},
     "output_type": "display_data"
    }
   ],
   "source": [
    "list.files('../data/', full.names=TRUE, pattern=\"*.csv\")"
   ]
  },
  {
   "cell_type": "code",
   "execution_count": 3,
   "metadata": {
    "scrolled": false
   },
   "outputs": [
    {
     "name": "stderr",
     "output_type": "stream",
     "text": [
      "Parsed with column specification:\n",
      "cols(\n",
      "  .default = col_double(),\n",
      "  barcode = col_character(),\n",
      "  donor = col_character(),\n",
      "  cell_clono_cdr3_aa = col_character(),\n",
      "  cell_clono_cdr3_nt = col_character(),\n",
      "  `A0101_VTEHDTLLY_IE-1_CMV_binder` = col_logical(),\n",
      "  A0201_KTWGQYWQV_gp100_Cancer_binder = col_logical(),\n",
      "  `A0201_ELAGIGILTV_MART-1_Cancer_binder` = col_logical(),\n",
      "  A0201_CLLWSFQTSA_Tyrosinase_Cancer_binder = col_logical(),\n",
      "  A0201_IMDQVPFSV_gp100_Cancer_binder = col_logical(),\n",
      "  `A0201_SLLMWITQV_NY-ESO-1_Cancer_binder` = col_logical(),\n",
      "  `A0201_KVAELVHFL_MAGE-A3_Cancer_binder` = col_logical(),\n",
      "  `A0201_KVLEYVIKV_MAGE-A1_Cancer_binder` = col_logical(),\n",
      "  `A0201_CLLGTYTQDV_Kanamycin-B-dioxygenase_binder` = col_logical(),\n",
      "  `A0201_LLDFVRFMGV_EBNA-3B_EBV_binder` = col_logical(),\n",
      "  `A0201_LLMGTLGIVC_HPV-16E7_82-91_binder` = col_logical(),\n",
      "  `A0201_CLGGLLTMV_LMP-2A_EBV_binder` = col_logical(),\n",
      "  A0201_YLLEMLWRL_LMP1_EBV_binder = col_logical(),\n",
      "  A0201_FLYALALLL_LMP2A_EBV_binder = col_logical(),\n",
      "  `A0201_GILGFVFTL_Flu-MP_Influenza_binder` = col_logical(),\n",
      "  A0201_GLCTLVAML_BMLF1_EBV_binder = col_logical()\n",
      "  # ... with 34 more columns\n",
      ")\n",
      "See spec(...) for full column specifications.\n",
      "Parsed with column specification:\n",
      "cols(\n",
      "  .default = col_double(),\n",
      "  barcode = col_character(),\n",
      "  donor = col_character(),\n",
      "  cell_clono_cdr3_aa = col_character(),\n",
      "  cell_clono_cdr3_nt = col_character(),\n",
      "  `A0101_VTEHDTLLY_IE-1_CMV_binder` = col_logical(),\n",
      "  A0201_KTWGQYWQV_gp100_Cancer_binder = col_logical(),\n",
      "  `A0201_ELAGIGILTV_MART-1_Cancer_binder` = col_logical(),\n",
      "  A0201_CLLWSFQTSA_Tyrosinase_Cancer_binder = col_logical(),\n",
      "  A0201_IMDQVPFSV_gp100_Cancer_binder = col_logical(),\n",
      "  `A0201_SLLMWITQV_NY-ESO-1_Cancer_binder` = col_logical(),\n",
      "  `A0201_KVAELVHFL_MAGE-A3_Cancer_binder` = col_logical(),\n",
      "  `A0201_KVLEYVIKV_MAGE-A1_Cancer_binder` = col_logical(),\n",
      "  `A0201_CLLGTYTQDV_Kanamycin-B-dioxygenase_binder` = col_logical(),\n",
      "  `A0201_LLDFVRFMGV_EBNA-3B_EBV_binder` = col_logical(),\n",
      "  `A0201_LLMGTLGIVC_HPV-16E7_82-91_binder` = col_logical(),\n",
      "  `A0201_CLGGLLTMV_LMP-2A_EBV_binder` = col_logical(),\n",
      "  A0201_YLLEMLWRL_LMP1_EBV_binder = col_logical(),\n",
      "  A0201_FLYALALLL_LMP2A_EBV_binder = col_logical(),\n",
      "  `A0201_GILGFVFTL_Flu-MP_Influenza_binder` = col_logical(),\n",
      "  A0201_GLCTLVAML_BMLF1_EBV_binder = col_logical()\n",
      "  # ... with 34 more columns\n",
      ")\n",
      "See spec(...) for full column specifications.\n",
      "Parsed with column specification:\n",
      "cols(\n",
      "  .default = col_double(),\n",
      "  barcode = col_character(),\n",
      "  donor = col_character(),\n",
      "  cell_clono_cdr3_aa = col_character(),\n",
      "  cell_clono_cdr3_nt = col_character(),\n",
      "  `A0101_VTEHDTLLY_IE-1_CMV_binder` = col_logical(),\n",
      "  A0201_KTWGQYWQV_gp100_Cancer_binder = col_logical(),\n",
      "  `A0201_ELAGIGILTV_MART-1_Cancer_binder` = col_logical(),\n",
      "  A0201_CLLWSFQTSA_Tyrosinase_Cancer_binder = col_logical(),\n",
      "  A0201_IMDQVPFSV_gp100_Cancer_binder = col_logical(),\n",
      "  `A0201_SLLMWITQV_NY-ESO-1_Cancer_binder` = col_logical(),\n",
      "  `A0201_KVAELVHFL_MAGE-A3_Cancer_binder` = col_logical(),\n",
      "  `A0201_KVLEYVIKV_MAGE-A1_Cancer_binder` = col_logical(),\n",
      "  `A0201_CLLGTYTQDV_Kanamycin-B-dioxygenase_binder` = col_logical(),\n",
      "  `A0201_LLDFVRFMGV_EBNA-3B_EBV_binder` = col_logical(),\n",
      "  `A0201_LLMGTLGIVC_HPV-16E7_82-91_binder` = col_logical(),\n",
      "  `A0201_CLGGLLTMV_LMP-2A_EBV_binder` = col_logical(),\n",
      "  A0201_YLLEMLWRL_LMP1_EBV_binder = col_logical(),\n",
      "  A0201_FLYALALLL_LMP2A_EBV_binder = col_logical(),\n",
      "  `A0201_GILGFVFTL_Flu-MP_Influenza_binder` = col_logical(),\n",
      "  A0201_GLCTLVAML_BMLF1_EBV_binder = col_logical()\n",
      "  # ... with 34 more columns\n",
      ")\n",
      "See spec(...) for full column specifications.\n",
      "Parsed with column specification:\n",
      "cols(\n",
      "  .default = col_double(),\n",
      "  barcode = col_character(),\n",
      "  donor = col_character(),\n",
      "  cell_clono_cdr3_aa = col_character(),\n",
      "  cell_clono_cdr3_nt = col_character(),\n",
      "  `A0101_VTEHDTLLY_IE-1_CMV_binder` = col_logical(),\n",
      "  A0201_KTWGQYWQV_gp100_Cancer_binder = col_logical(),\n",
      "  `A0201_ELAGIGILTV_MART-1_Cancer_binder` = col_logical(),\n",
      "  A0201_CLLWSFQTSA_Tyrosinase_Cancer_binder = col_logical(),\n",
      "  A0201_IMDQVPFSV_gp100_Cancer_binder = col_logical(),\n",
      "  `A0201_SLLMWITQV_NY-ESO-1_Cancer_binder` = col_logical(),\n",
      "  `A0201_KVAELVHFL_MAGE-A3_Cancer_binder` = col_logical(),\n",
      "  `A0201_KVLEYVIKV_MAGE-A1_Cancer_binder` = col_logical(),\n",
      "  `A0201_CLLGTYTQDV_Kanamycin-B-dioxygenase_binder` = col_logical(),\n",
      "  `A0201_LLDFVRFMGV_EBNA-3B_EBV_binder` = col_logical(),\n",
      "  `A0201_LLMGTLGIVC_HPV-16E7_82-91_binder` = col_logical(),\n",
      "  `A0201_CLGGLLTMV_LMP-2A_EBV_binder` = col_logical(),\n",
      "  A0201_YLLEMLWRL_LMP1_EBV_binder = col_logical(),\n",
      "  A0201_FLYALALLL_LMP2A_EBV_binder = col_logical(),\n",
      "  `A0201_GILGFVFTL_Flu-MP_Influenza_binder` = col_logical(),\n",
      "  A0201_GLCTLVAML_BMLF1_EBV_binder = col_logical()\n",
      "  # ... with 34 more columns\n",
      ")\n",
      "See spec(...) for full column specifications.\n"
     ]
    },
    {
     "data": {
      "text/html": [
       "<table>\n",
       "<thead><tr><th scope=col>barcode</th><th scope=col>donor</th><th scope=col>cell_clono_cdr3_aa</th><th scope=col>cell_clono_cdr3_nt</th><th scope=col>CD3</th><th scope=col>CD19</th><th scope=col>CD45RA</th><th scope=col>CD4</th><th scope=col>CD8a</th><th scope=col>CD14</th><th scope=col>⋯</th><th scope=col>B0702_RPHERNGFTVL_pp65_CMV_binder</th><th scope=col>B0801_RAKFKQLL_BZLF1_EBV_binder</th><th scope=col>B0801_ELRRKMMYM_IE-1_CMV_binder</th><th scope=col>B0801_FLRGRAYGL_EBNA-3A_EBV_binder</th><th scope=col>A0101_SLEGGGLGY_NC_binder</th><th scope=col>A0101_STEGGGLAY_NC_binder</th><th scope=col>A0201_ALIAPVHAV_NC_binder</th><th scope=col>A2402_AYSSAGASI_NC_binder</th><th scope=col>B0702_GPAESAAGL_NC_binder</th><th scope=col>NR(B0801)_AAKGRGAAL_NC_binder</th></tr></thead>\n",
       "<tbody>\n",
       "\t<tr><td>AAACCTGAGACAAAGG-4                                                                                                                                            </td><td>donor1                                                                                                                                                        </td><td>TRA:CAASVSIWTGTASKLTF;TRA:CAAWDMEYGNKLVF;TRB:CAISDPGLAGGGGEQFF                                                                                                </td><td>TRA:TGTGCAGCAAGCGTTAGTATTTGGACCGGCACTGCCAGTAAACTCACCTTT;TRA:TGTGCCGCCTGGGACATGGAATATGGAAACAAGCTGGTCTTT;TRB:TGTGCCATCAGTGACCCCGGACTAGCGGGAGGCGGGGGGGAGCAGTTCTTC</td><td>2125                                                                                                                                                          </td><td>0                                                                                                                                                             </td><td> 912                                                                                                                                                          </td><td>  1                                                                                                                                                           </td><td>2223                                                                                                                                                          </td><td>4                                                                                                                                                             </td><td>⋯                                                                                                                                                             </td><td>FALSE                                                                                                                                                         </td><td>FALSE                                                                                                                                                         </td><td>FALSE                                                                                                                                                         </td><td>FALSE                                                                                                                                                         </td><td>FALSE                                                                                                                                                         </td><td>FALSE                                                                                                                                                         </td><td>FALSE                                                                                                                                                         </td><td>FALSE                                                                                                                                                         </td><td>FALSE                                                                                                                                                         </td><td>FALSE                                                                                                                                                         </td></tr>\n",
       "\t<tr><td>AAACCTGAGACTGTAA-34                                                                                                                                           </td><td>donor1                                                                                                                                                        </td><td>TRB:CASDTPVGQFF                                                                                                                                               </td><td>TRB:TGTGCCAGCGATACCCCGGTTGGGCAGTTCTTC                                                                                                                         </td><td>1023                                                                                                                                                          </td><td>0                                                                                                                                                             </td><td>2028                                                                                                                                                          </td><td>  2                                                                                                                                                           </td><td>3485                                                                                                                                                          </td><td>1                                                                                                                                                             </td><td>⋯                                                                                                                                                             </td><td>FALSE                                                                                                                                                         </td><td>FALSE                                                                                                                                                         </td><td>FALSE                                                                                                                                                         </td><td>FALSE                                                                                                                                                         </td><td>FALSE                                                                                                                                                         </td><td>FALSE                                                                                                                                                         </td><td>FALSE                                                                                                                                                         </td><td>FALSE                                                                                                                                                         </td><td>FALSE                                                                                                                                                         </td><td>FALSE                                                                                                                                                         </td></tr>\n",
       "\t<tr><td>AAACCTGAGAGCCCAA-5                                                                                                                                            </td><td>donor1                                                                                                                                                        </td><td>TRA:CASYTDKLIF;TRB:CASSGGSISTDTQYF                                                                                                                            </td><td>TRA:TGTGCTTCCTACACCGACAAGCTCATCTTT;TRB:TGCGCCAGCAGTGGCGGGAGTATTAGCACAGATACGCAGTATTTT                                                                          </td><td>1598                                                                                                                                                          </td><td>3                                                                                                                                                             </td><td>3454                                                                                                                                                          </td><td>  4                                                                                                                                                           </td><td>3383                                                                                                                                                          </td><td>1                                                                                                                                                             </td><td>⋯                                                                                                                                                             </td><td>FALSE                                                                                                                                                         </td><td>FALSE                                                                                                                                                         </td><td>FALSE                                                                                                                                                         </td><td>FALSE                                                                                                                                                         </td><td>FALSE                                                                                                                                                         </td><td>FALSE                                                                                                                                                         </td><td>FALSE                                                                                                                                                         </td><td>FALSE                                                                                                                                                         </td><td>FALSE                                                                                                                                                         </td><td>FALSE                                                                                                                                                         </td></tr>\n",
       "\t<tr><td>AAACCTGAGAGCTGCA-24                                                                                                                                           </td><td>donor1                                                                                                                                                        </td><td>TRB:CASSGGQSSYEQYF                                                                                                                                            </td><td>TRB:TGCGCCAGCAGTGGCGGACAGAGCTCCTACGAGCAGTACTTC                                                                                                                </td><td> 298                                                                                                                                                          </td><td>1                                                                                                                                                             </td><td> 880                                                                                                                                                          </td><td>  1                                                                                                                                                           </td><td>2389                                                                                                                                                          </td><td>1                                                                                                                                                             </td><td>⋯                                                                                                                                                             </td><td>FALSE                                                                                                                                                         </td><td>FALSE                                                                                                                                                         </td><td>FALSE                                                                                                                                                         </td><td>FALSE                                                                                                                                                         </td><td>FALSE                                                                                                                                                         </td><td>FALSE                                                                                                                                                         </td><td>FALSE                                                                                                                                                         </td><td>FALSE                                                                                                                                                         </td><td>FALSE                                                                                                                                                         </td><td>FALSE                                                                                                                                                         </td></tr>\n",
       "\t<tr><td>AAACCTGAGAGGGATA-8                                                                                                                                            </td><td>donor1                                                                                                                                                        </td><td>TRA:CAASGYGNTGRRALTF;TRB:CASSQDPAGGYNEQFF                                                                                                                     </td><td>TRA:TGTGCAGCAAGCGGGTATGGAAACACGGGCAGGAGAGCACTTACTTTT;TRB:TGCGCCAGCAGCCAAGACCCAGCGGGGGGGTACAATGAGCAGTTCTTC                                                     </td><td>1036                                                                                                                                                          </td><td>0                                                                                                                                                             </td><td>2457                                                                                                                                                          </td><td>  2                                                                                                                                                           </td><td>3427                                                                                                                                                          </td><td>3                                                                                                                                                             </td><td>⋯                                                                                                                                                             </td><td>FALSE                                                                                                                                                         </td><td>FALSE                                                                                                                                                         </td><td>FALSE                                                                                                                                                         </td><td>FALSE                                                                                                                                                         </td><td>FALSE                                                                                                                                                         </td><td>FALSE                                                                                                                                                         </td><td>FALSE                                                                                                                                                         </td><td>FALSE                                                                                                                                                         </td><td>FALSE                                                                                                                                                         </td><td>FALSE                                                                                                                                                         </td></tr>\n",
       "\t<tr><td>AAACCTGAGAGTGAGA-23                                                                                                                                           </td><td>donor1                                                                                                                                                        </td><td>TRA:CAAHLSNFGNEKLTF;TRB:CATSRDRGHGDTIYF                                                                                                                       </td><td>TRA:TGTGCAGCACACTTATCTAACTTTGGAAATGAGAAATTAACCTTT;TRB:TGTGCCACCAGCAGAGATCGGGGCCATGGGGACACCATATATTTT                                                           </td><td>1729                                                                                                                                                          </td><td>1                                                                                                                                                             </td><td>  39                                                                                                                                                          </td><td>160                                                                                                                                                           </td><td>5671                                                                                                                                                          </td><td>5                                                                                                                                                             </td><td>⋯                                                                                                                                                             </td><td>FALSE                                                                                                                                                         </td><td>FALSE                                                                                                                                                         </td><td>FALSE                                                                                                                                                         </td><td>FALSE                                                                                                                                                         </td><td>FALSE                                                                                                                                                         </td><td>FALSE                                                                                                                                                         </td><td>FALSE                                                                                                                                                         </td><td>FALSE                                                                                                                                                         </td><td>FALSE                                                                                                                                                         </td><td>FALSE                                                                                                                                                         </td></tr>\n",
       "</tbody>\n",
       "</table>\n"
      ],
      "text/latex": [
       "\\begin{tabular}{r|llllllllllllllllllllllllllllllllllllllllllllllllllllllllllllllllllllllllllllllllllllllllllllllllllllllllllllllllllllll}\n",
       " barcode & donor & cell\\_clono\\_cdr3\\_aa & cell\\_clono\\_cdr3\\_nt & CD3 & CD19 & CD45RA & CD4 & CD8a & CD14 & ⋯ & B0702\\_RPHERNGFTVL\\_pp65\\_CMV\\_binder & B0801\\_RAKFKQLL\\_BZLF1\\_EBV\\_binder & B0801\\_ELRRKMMYM\\_IE-1\\_CMV\\_binder & B0801\\_FLRGRAYGL\\_EBNA-3A\\_EBV\\_binder & A0101\\_SLEGGGLGY\\_NC\\_binder & A0101\\_STEGGGLAY\\_NC\\_binder & A0201\\_ALIAPVHAV\\_NC\\_binder & A2402\\_AYSSAGASI\\_NC\\_binder & B0702\\_GPAESAAGL\\_NC\\_binder & NR(B0801)\\_AAKGRGAAL\\_NC\\_binder\\\\\n",
       "\\hline\n",
       "\t AAACCTGAGACAAAGG-4                                                                                                                                             & donor1                                                                                                                                                         & TRA:CAASVSIWTGTASKLTF;TRA:CAAWDMEYGNKLVF;TRB:CAISDPGLAGGGGEQFF                                                                                                 & TRA:TGTGCAGCAAGCGTTAGTATTTGGACCGGCACTGCCAGTAAACTCACCTTT;TRA:TGTGCCGCCTGGGACATGGAATATGGAAACAAGCTGGTCTTT;TRB:TGTGCCATCAGTGACCCCGGACTAGCGGGAGGCGGGGGGGAGCAGTTCTTC & 2125                                                                                                                                                           & 0                                                                                                                                                              &  912                                                                                                                                                           &   1                                                                                                                                                            & 2223                                                                                                                                                           & 4                                                                                                                                                              & ⋯                                                                                                                                                              & FALSE                                                                                                                                                          & FALSE                                                                                                                                                          & FALSE                                                                                                                                                          & FALSE                                                                                                                                                          & FALSE                                                                                                                                                          & FALSE                                                                                                                                                          & FALSE                                                                                                                                                          & FALSE                                                                                                                                                          & FALSE                                                                                                                                                          & FALSE                                                                                                                                                         \\\\\n",
       "\t AAACCTGAGACTGTAA-34                                                                                                                                            & donor1                                                                                                                                                         & TRB:CASDTPVGQFF                                                                                                                                                & TRB:TGTGCCAGCGATACCCCGGTTGGGCAGTTCTTC                                                                                                                          & 1023                                                                                                                                                           & 0                                                                                                                                                              & 2028                                                                                                                                                           &   2                                                                                                                                                            & 3485                                                                                                                                                           & 1                                                                                                                                                              & ⋯                                                                                                                                                              & FALSE                                                                                                                                                          & FALSE                                                                                                                                                          & FALSE                                                                                                                                                          & FALSE                                                                                                                                                          & FALSE                                                                                                                                                          & FALSE                                                                                                                                                          & FALSE                                                                                                                                                          & FALSE                                                                                                                                                          & FALSE                                                                                                                                                          & FALSE                                                                                                                                                         \\\\\n",
       "\t AAACCTGAGAGCCCAA-5                                                                                                                                             & donor1                                                                                                                                                         & TRA:CASYTDKLIF;TRB:CASSGGSISTDTQYF                                                                                                                             & TRA:TGTGCTTCCTACACCGACAAGCTCATCTTT;TRB:TGCGCCAGCAGTGGCGGGAGTATTAGCACAGATACGCAGTATTTT                                                                           & 1598                                                                                                                                                           & 3                                                                                                                                                              & 3454                                                                                                                                                           &   4                                                                                                                                                            & 3383                                                                                                                                                           & 1                                                                                                                                                              & ⋯                                                                                                                                                              & FALSE                                                                                                                                                          & FALSE                                                                                                                                                          & FALSE                                                                                                                                                          & FALSE                                                                                                                                                          & FALSE                                                                                                                                                          & FALSE                                                                                                                                                          & FALSE                                                                                                                                                          & FALSE                                                                                                                                                          & FALSE                                                                                                                                                          & FALSE                                                                                                                                                         \\\\\n",
       "\t AAACCTGAGAGCTGCA-24                                                                                                                                            & donor1                                                                                                                                                         & TRB:CASSGGQSSYEQYF                                                                                                                                             & TRB:TGCGCCAGCAGTGGCGGACAGAGCTCCTACGAGCAGTACTTC                                                                                                                 &  298                                                                                                                                                           & 1                                                                                                                                                              &  880                                                                                                                                                           &   1                                                                                                                                                            & 2389                                                                                                                                                           & 1                                                                                                                                                              & ⋯                                                                                                                                                              & FALSE                                                                                                                                                          & FALSE                                                                                                                                                          & FALSE                                                                                                                                                          & FALSE                                                                                                                                                          & FALSE                                                                                                                                                          & FALSE                                                                                                                                                          & FALSE                                                                                                                                                          & FALSE                                                                                                                                                          & FALSE                                                                                                                                                          & FALSE                                                                                                                                                         \\\\\n",
       "\t AAACCTGAGAGGGATA-8                                                                                                                                             & donor1                                                                                                                                                         & TRA:CAASGYGNTGRRALTF;TRB:CASSQDPAGGYNEQFF                                                                                                                      & TRA:TGTGCAGCAAGCGGGTATGGAAACACGGGCAGGAGAGCACTTACTTTT;TRB:TGCGCCAGCAGCCAAGACCCAGCGGGGGGGTACAATGAGCAGTTCTTC                                                      & 1036                                                                                                                                                           & 0                                                                                                                                                              & 2457                                                                                                                                                           &   2                                                                                                                                                            & 3427                                                                                                                                                           & 3                                                                                                                                                              & ⋯                                                                                                                                                              & FALSE                                                                                                                                                          & FALSE                                                                                                                                                          & FALSE                                                                                                                                                          & FALSE                                                                                                                                                          & FALSE                                                                                                                                                          & FALSE                                                                                                                                                          & FALSE                                                                                                                                                          & FALSE                                                                                                                                                          & FALSE                                                                                                                                                          & FALSE                                                                                                                                                         \\\\\n",
       "\t AAACCTGAGAGTGAGA-23                                                                                                                                            & donor1                                                                                                                                                         & TRA:CAAHLSNFGNEKLTF;TRB:CATSRDRGHGDTIYF                                                                                                                        & TRA:TGTGCAGCACACTTATCTAACTTTGGAAATGAGAAATTAACCTTT;TRB:TGTGCCACCAGCAGAGATCGGGGCCATGGGGACACCATATATTTT                                                            & 1729                                                                                                                                                           & 1                                                                                                                                                              &   39                                                                                                                                                           & 160                                                                                                                                                            & 5671                                                                                                                                                           & 5                                                                                                                                                              & ⋯                                                                                                                                                              & FALSE                                                                                                                                                          & FALSE                                                                                                                                                          & FALSE                                                                                                                                                          & FALSE                                                                                                                                                          & FALSE                                                                                                                                                          & FALSE                                                                                                                                                          & FALSE                                                                                                                                                          & FALSE                                                                                                                                                          & FALSE                                                                                                                                                          & FALSE                                                                                                                                                         \\\\\n",
       "\\end{tabular}\n"
      ],
      "text/markdown": [
       "\n",
       "| barcode | donor | cell_clono_cdr3_aa | cell_clono_cdr3_nt | CD3 | CD19 | CD45RA | CD4 | CD8a | CD14 | ⋯ | B0702_RPHERNGFTVL_pp65_CMV_binder | B0801_RAKFKQLL_BZLF1_EBV_binder | B0801_ELRRKMMYM_IE-1_CMV_binder | B0801_FLRGRAYGL_EBNA-3A_EBV_binder | A0101_SLEGGGLGY_NC_binder | A0101_STEGGGLAY_NC_binder | A0201_ALIAPVHAV_NC_binder | A2402_AYSSAGASI_NC_binder | B0702_GPAESAAGL_NC_binder | NR(B0801)_AAKGRGAAL_NC_binder |\n",
       "|---|---|---|---|---|---|---|---|---|---|---|---|---|---|---|---|---|---|---|---|---|\n",
       "| AAACCTGAGACAAAGG-4                                                                                                                                             | donor1                                                                                                                                                         | TRA:CAASVSIWTGTASKLTF;TRA:CAAWDMEYGNKLVF;TRB:CAISDPGLAGGGGEQFF                                                                                                 | TRA:TGTGCAGCAAGCGTTAGTATTTGGACCGGCACTGCCAGTAAACTCACCTTT;TRA:TGTGCCGCCTGGGACATGGAATATGGAAACAAGCTGGTCTTT;TRB:TGTGCCATCAGTGACCCCGGACTAGCGGGAGGCGGGGGGGAGCAGTTCTTC | 2125                                                                                                                                                           | 0                                                                                                                                                              |  912                                                                                                                                                           |   1                                                                                                                                                            | 2223                                                                                                                                                           | 4                                                                                                                                                              | ⋯                                                                                                                                                              | FALSE                                                                                                                                                          | FALSE                                                                                                                                                          | FALSE                                                                                                                                                          | FALSE                                                                                                                                                          | FALSE                                                                                                                                                          | FALSE                                                                                                                                                          | FALSE                                                                                                                                                          | FALSE                                                                                                                                                          | FALSE                                                                                                                                                          | FALSE                                                                                                                                                          |\n",
       "| AAACCTGAGACTGTAA-34                                                                                                                                            | donor1                                                                                                                                                         | TRB:CASDTPVGQFF                                                                                                                                                | TRB:TGTGCCAGCGATACCCCGGTTGGGCAGTTCTTC                                                                                                                          | 1023                                                                                                                                                           | 0                                                                                                                                                              | 2028                                                                                                                                                           |   2                                                                                                                                                            | 3485                                                                                                                                                           | 1                                                                                                                                                              | ⋯                                                                                                                                                              | FALSE                                                                                                                                                          | FALSE                                                                                                                                                          | FALSE                                                                                                                                                          | FALSE                                                                                                                                                          | FALSE                                                                                                                                                          | FALSE                                                                                                                                                          | FALSE                                                                                                                                                          | FALSE                                                                                                                                                          | FALSE                                                                                                                                                          | FALSE                                                                                                                                                          |\n",
       "| AAACCTGAGAGCCCAA-5                                                                                                                                             | donor1                                                                                                                                                         | TRA:CASYTDKLIF;TRB:CASSGGSISTDTQYF                                                                                                                             | TRA:TGTGCTTCCTACACCGACAAGCTCATCTTT;TRB:TGCGCCAGCAGTGGCGGGAGTATTAGCACAGATACGCAGTATTTT                                                                           | 1598                                                                                                                                                           | 3                                                                                                                                                              | 3454                                                                                                                                                           |   4                                                                                                                                                            | 3383                                                                                                                                                           | 1                                                                                                                                                              | ⋯                                                                                                                                                              | FALSE                                                                                                                                                          | FALSE                                                                                                                                                          | FALSE                                                                                                                                                          | FALSE                                                                                                                                                          | FALSE                                                                                                                                                          | FALSE                                                                                                                                                          | FALSE                                                                                                                                                          | FALSE                                                                                                                                                          | FALSE                                                                                                                                                          | FALSE                                                                                                                                                          |\n",
       "| AAACCTGAGAGCTGCA-24                                                                                                                                            | donor1                                                                                                                                                         | TRB:CASSGGQSSYEQYF                                                                                                                                             | TRB:TGCGCCAGCAGTGGCGGACAGAGCTCCTACGAGCAGTACTTC                                                                                                                 |  298                                                                                                                                                           | 1                                                                                                                                                              |  880                                                                                                                                                           |   1                                                                                                                                                            | 2389                                                                                                                                                           | 1                                                                                                                                                              | ⋯                                                                                                                                                              | FALSE                                                                                                                                                          | FALSE                                                                                                                                                          | FALSE                                                                                                                                                          | FALSE                                                                                                                                                          | FALSE                                                                                                                                                          | FALSE                                                                                                                                                          | FALSE                                                                                                                                                          | FALSE                                                                                                                                                          | FALSE                                                                                                                                                          | FALSE                                                                                                                                                          |\n",
       "| AAACCTGAGAGGGATA-8                                                                                                                                             | donor1                                                                                                                                                         | TRA:CAASGYGNTGRRALTF;TRB:CASSQDPAGGYNEQFF                                                                                                                      | TRA:TGTGCAGCAAGCGGGTATGGAAACACGGGCAGGAGAGCACTTACTTTT;TRB:TGCGCCAGCAGCCAAGACCCAGCGGGGGGGTACAATGAGCAGTTCTTC                                                      | 1036                                                                                                                                                           | 0                                                                                                                                                              | 2457                                                                                                                                                           |   2                                                                                                                                                            | 3427                                                                                                                                                           | 3                                                                                                                                                              | ⋯                                                                                                                                                              | FALSE                                                                                                                                                          | FALSE                                                                                                                                                          | FALSE                                                                                                                                                          | FALSE                                                                                                                                                          | FALSE                                                                                                                                                          | FALSE                                                                                                                                                          | FALSE                                                                                                                                                          | FALSE                                                                                                                                                          | FALSE                                                                                                                                                          | FALSE                                                                                                                                                          |\n",
       "| AAACCTGAGAGTGAGA-23                                                                                                                                            | donor1                                                                                                                                                         | TRA:CAAHLSNFGNEKLTF;TRB:CATSRDRGHGDTIYF                                                                                                                        | TRA:TGTGCAGCACACTTATCTAACTTTGGAAATGAGAAATTAACCTTT;TRB:TGTGCCACCAGCAGAGATCGGGGCCATGGGGACACCATATATTTT                                                            | 1729                                                                                                                                                           | 1                                                                                                                                                              |   39                                                                                                                                                           | 160                                                                                                                                                            | 5671                                                                                                                                                           | 5                                                                                                                                                              | ⋯                                                                                                                                                              | FALSE                                                                                                                                                          | FALSE                                                                                                                                                          | FALSE                                                                                                                                                          | FALSE                                                                                                                                                          | FALSE                                                                                                                                                          | FALSE                                                                                                                                                          | FALSE                                                                                                                                                          | FALSE                                                                                                                                                          | FALSE                                                                                                                                                          | FALSE                                                                                                                                                          |\n",
       "\n"
      ],
      "text/plain": [
       "  barcode             donor \n",
       "1 AAACCTGAGACAAAGG-4  donor1\n",
       "2 AAACCTGAGACTGTAA-34 donor1\n",
       "3 AAACCTGAGAGCCCAA-5  donor1\n",
       "4 AAACCTGAGAGCTGCA-24 donor1\n",
       "5 AAACCTGAGAGGGATA-8  donor1\n",
       "6 AAACCTGAGAGTGAGA-23 donor1\n",
       "  cell_clono_cdr3_aa                                            \n",
       "1 TRA:CAASVSIWTGTASKLTF;TRA:CAAWDMEYGNKLVF;TRB:CAISDPGLAGGGGEQFF\n",
       "2 TRB:CASDTPVGQFF                                               \n",
       "3 TRA:CASYTDKLIF;TRB:CASSGGSISTDTQYF                            \n",
       "4 TRB:CASSGGQSSYEQYF                                            \n",
       "5 TRA:CAASGYGNTGRRALTF;TRB:CASSQDPAGGYNEQFF                     \n",
       "6 TRA:CAAHLSNFGNEKLTF;TRB:CATSRDRGHGDTIYF                       \n",
       "  cell_clono_cdr3_nt                                                                                                                                            \n",
       "1 TRA:TGTGCAGCAAGCGTTAGTATTTGGACCGGCACTGCCAGTAAACTCACCTTT;TRA:TGTGCCGCCTGGGACATGGAATATGGAAACAAGCTGGTCTTT;TRB:TGTGCCATCAGTGACCCCGGACTAGCGGGAGGCGGGGGGGAGCAGTTCTTC\n",
       "2 TRB:TGTGCCAGCGATACCCCGGTTGGGCAGTTCTTC                                                                                                                         \n",
       "3 TRA:TGTGCTTCCTACACCGACAAGCTCATCTTT;TRB:TGCGCCAGCAGTGGCGGGAGTATTAGCACAGATACGCAGTATTTT                                                                          \n",
       "4 TRB:TGCGCCAGCAGTGGCGGACAGAGCTCCTACGAGCAGTACTTC                                                                                                                \n",
       "5 TRA:TGTGCAGCAAGCGGGTATGGAAACACGGGCAGGAGAGCACTTACTTTT;TRB:TGCGCCAGCAGCCAAGACCCAGCGGGGGGGTACAATGAGCAGTTCTTC                                                     \n",
       "6 TRA:TGTGCAGCACACTTATCTAACTTTGGAAATGAGAAATTAACCTTT;TRB:TGTGCCACCAGCAGAGATCGGGGCCATGGGGACACCATATATTTT                                                           \n",
       "  CD3  CD19 CD45RA CD4 CD8a CD14 ⋯ B0702_RPHERNGFTVL_pp65_CMV_binder\n",
       "1 2125 0     912     1 2223 4    ⋯ FALSE                            \n",
       "2 1023 0    2028     2 3485 1    ⋯ FALSE                            \n",
       "3 1598 3    3454     4 3383 1    ⋯ FALSE                            \n",
       "4  298 1     880     1 2389 1    ⋯ FALSE                            \n",
       "5 1036 0    2457     2 3427 3    ⋯ FALSE                            \n",
       "6 1729 1      39   160 5671 5    ⋯ FALSE                            \n",
       "  B0801_RAKFKQLL_BZLF1_EBV_binder B0801_ELRRKMMYM_IE-1_CMV_binder\n",
       "1 FALSE                           FALSE                          \n",
       "2 FALSE                           FALSE                          \n",
       "3 FALSE                           FALSE                          \n",
       "4 FALSE                           FALSE                          \n",
       "5 FALSE                           FALSE                          \n",
       "6 FALSE                           FALSE                          \n",
       "  B0801_FLRGRAYGL_EBNA-3A_EBV_binder A0101_SLEGGGLGY_NC_binder\n",
       "1 FALSE                              FALSE                    \n",
       "2 FALSE                              FALSE                    \n",
       "3 FALSE                              FALSE                    \n",
       "4 FALSE                              FALSE                    \n",
       "5 FALSE                              FALSE                    \n",
       "6 FALSE                              FALSE                    \n",
       "  A0101_STEGGGLAY_NC_binder A0201_ALIAPVHAV_NC_binder A2402_AYSSAGASI_NC_binder\n",
       "1 FALSE                     FALSE                     FALSE                    \n",
       "2 FALSE                     FALSE                     FALSE                    \n",
       "3 FALSE                     FALSE                     FALSE                    \n",
       "4 FALSE                     FALSE                     FALSE                    \n",
       "5 FALSE                     FALSE                     FALSE                    \n",
       "6 FALSE                     FALSE                     FALSE                    \n",
       "  B0702_GPAESAAGL_NC_binder NR(B0801)_AAKGRGAAL_NC_binder\n",
       "1 FALSE                     FALSE                        \n",
       "2 FALSE                     FALSE                        \n",
       "3 FALSE                     FALSE                        \n",
       "4 FALSE                     FALSE                        \n",
       "5 FALSE                     FALSE                        \n",
       "6 FALSE                     FALSE                        "
      ]
     },
     "metadata": {},
     "output_type": "display_data"
    }
   ],
   "source": [
    "all_donors <- \n",
    "    list.files('../data', full.names=TRUE, pattern=\"*.csv\") %>%\n",
    "    map(read_csv) %>%\n",
    "    reduce(rbind) %>%\n",
    "    mutate(`donor`=factor(`donor`))\n",
    "\n",
    "all_donors %>% head"
   ]
  },
  {
   "cell_type": "code",
   "execution_count": 4,
   "metadata": {},
   "outputs": [
    {
     "data": {
      "text/html": [
       "<table>\n",
       "<thead><tr><th scope=col>barcode</th><th scope=col>donor</th><th scope=col>TCR</th><th scope=col>CDR3</th></tr></thead>\n",
       "<tbody>\n",
       "\t<tr><td>AAACCTGAGACAAAGG-4 </td><td>donor1             </td><td>TRA                </td><td>CAASVSIWTGTASKLTF  </td></tr>\n",
       "\t<tr><td>AAACCTGAGACAAAGG-4 </td><td>donor1             </td><td>TRA                </td><td>CAAWDMEYGNKLVF     </td></tr>\n",
       "\t<tr><td>AAACCTGAGACAAAGG-4 </td><td>donor1             </td><td>TRB                </td><td>CAISDPGLAGGGGEQFF  </td></tr>\n",
       "\t<tr><td>AAACCTGAGACTGTAA-34</td><td>donor1             </td><td>TRB                </td><td>CASDTPVGQFF        </td></tr>\n",
       "\t<tr><td>AAACCTGAGAGCCCAA-5 </td><td>donor1             </td><td>TRA                </td><td>CASYTDKLIF         </td></tr>\n",
       "\t<tr><td>AAACCTGAGAGCCCAA-5 </td><td>donor1             </td><td>TRB                </td><td>CASSGGSISTDTQYF    </td></tr>\n",
       "</tbody>\n",
       "</table>\n"
      ],
      "text/latex": [
       "\\begin{tabular}{r|llll}\n",
       " barcode & donor & TCR & CDR3\\\\\n",
       "\\hline\n",
       "\t AAACCTGAGACAAAGG-4  & donor1              & TRA                 & CAASVSIWTGTASKLTF  \\\\\n",
       "\t AAACCTGAGACAAAGG-4  & donor1              & TRA                 & CAAWDMEYGNKLVF     \\\\\n",
       "\t AAACCTGAGACAAAGG-4  & donor1              & TRB                 & CAISDPGLAGGGGEQFF  \\\\\n",
       "\t AAACCTGAGACTGTAA-34 & donor1              & TRB                 & CASDTPVGQFF        \\\\\n",
       "\t AAACCTGAGAGCCCAA-5  & donor1              & TRA                 & CASYTDKLIF         \\\\\n",
       "\t AAACCTGAGAGCCCAA-5  & donor1              & TRB                 & CASSGGSISTDTQYF    \\\\\n",
       "\\end{tabular}\n"
      ],
      "text/markdown": [
       "\n",
       "| barcode | donor | TCR | CDR3 |\n",
       "|---|---|---|---|\n",
       "| AAACCTGAGACAAAGG-4  | donor1              | TRA                 | CAASVSIWTGTASKLTF   |\n",
       "| AAACCTGAGACAAAGG-4  | donor1              | TRA                 | CAAWDMEYGNKLVF      |\n",
       "| AAACCTGAGACAAAGG-4  | donor1              | TRB                 | CAISDPGLAGGGGEQFF   |\n",
       "| AAACCTGAGACTGTAA-34 | donor1              | TRB                 | CASDTPVGQFF         |\n",
       "| AAACCTGAGAGCCCAA-5  | donor1              | TRA                 | CASYTDKLIF          |\n",
       "| AAACCTGAGAGCCCAA-5  | donor1              | TRB                 | CASSGGSISTDTQYF     |\n",
       "\n"
      ],
      "text/plain": [
       "  barcode             donor  TCR CDR3             \n",
       "1 AAACCTGAGACAAAGG-4  donor1 TRA CAASVSIWTGTASKLTF\n",
       "2 AAACCTGAGACAAAGG-4  donor1 TRA CAAWDMEYGNKLVF   \n",
       "3 AAACCTGAGACAAAGG-4  donor1 TRB CAISDPGLAGGGGEQFF\n",
       "4 AAACCTGAGACTGTAA-34 donor1 TRB CASDTPVGQFF      \n",
       "5 AAACCTGAGAGCCCAA-5  donor1 TRA CASYTDKLIF       \n",
       "6 AAACCTGAGAGCCCAA-5  donor1 TRB CASSGGSISTDTQYF  "
      ]
     },
     "metadata": {},
     "output_type": "display_data"
    }
   ],
   "source": [
    "all_tcrs <-\n",
    "    all_donors %>%\n",
    "    select(`barcode`:`cell_clono_cdr3_aa`) %>%\n",
    "    separate_rows(`cell_clono_cdr3_aa`, sep=\";\") %>%\n",
    "    separate(`cell_clono_cdr3_aa`, c('TCR', 'CDR3'), sep=\":\") %>%\n",
    "    mutate(`TCR`=factor(`TCR`))\n",
    "\n",
    "all_tcrs %>% head"
   ]
  },
  {
   "cell_type": "code",
   "execution_count": 5,
   "metadata": {
    "scrolled": true
   },
   "outputs": [
    {
     "data": {
      "text/html": [
       "<table>\n",
       "<thead><tr><th scope=col>barcode</th><th scope=col>donor</th><th scope=col>Marker</th><th scope=col>PExpression</th></tr></thead>\n",
       "<tbody>\n",
       "\t<tr><td>AAACCTGAGACAAAGG-4 </td><td>donor1             </td><td>CD3                </td><td>2125               </td></tr>\n",
       "\t<tr><td>AAACCTGAGACTGTAA-34</td><td>donor1             </td><td>CD3                </td><td>1023               </td></tr>\n",
       "\t<tr><td>AAACCTGAGAGCCCAA-5 </td><td>donor1             </td><td>CD3                </td><td>1598               </td></tr>\n",
       "\t<tr><td>AAACCTGAGAGCTGCA-24</td><td>donor1             </td><td>CD3                </td><td> 298               </td></tr>\n",
       "\t<tr><td>AAACCTGAGAGGGATA-8 </td><td>donor1             </td><td>CD3                </td><td>1036               </td></tr>\n",
       "\t<tr><td>AAACCTGAGAGTGAGA-23</td><td>donor1             </td><td>CD3                </td><td>1729               </td></tr>\n",
       "</tbody>\n",
       "</table>\n"
      ],
      "text/latex": [
       "\\begin{tabular}{r|llll}\n",
       " barcode & donor & Marker & PExpression\\\\\n",
       "\\hline\n",
       "\t AAACCTGAGACAAAGG-4  & donor1              & CD3                 & 2125               \\\\\n",
       "\t AAACCTGAGACTGTAA-34 & donor1              & CD3                 & 1023               \\\\\n",
       "\t AAACCTGAGAGCCCAA-5  & donor1              & CD3                 & 1598               \\\\\n",
       "\t AAACCTGAGAGCTGCA-24 & donor1              & CD3                 &  298               \\\\\n",
       "\t AAACCTGAGAGGGATA-8  & donor1              & CD3                 & 1036               \\\\\n",
       "\t AAACCTGAGAGTGAGA-23 & donor1              & CD3                 & 1729               \\\\\n",
       "\\end{tabular}\n"
      ],
      "text/markdown": [
       "\n",
       "| barcode | donor | Marker | PExpression |\n",
       "|---|---|---|---|\n",
       "| AAACCTGAGACAAAGG-4  | donor1              | CD3                 | 2125                |\n",
       "| AAACCTGAGACTGTAA-34 | donor1              | CD3                 | 1023                |\n",
       "| AAACCTGAGAGCCCAA-5  | donor1              | CD3                 | 1598                |\n",
       "| AAACCTGAGAGCTGCA-24 | donor1              | CD3                 |  298                |\n",
       "| AAACCTGAGAGGGATA-8  | donor1              | CD3                 | 1036                |\n",
       "| AAACCTGAGAGTGAGA-23 | donor1              | CD3                 | 1729                |\n",
       "\n"
      ],
      "text/plain": [
       "  barcode             donor  Marker PExpression\n",
       "1 AAACCTGAGACAAAGG-4  donor1 CD3    2125       \n",
       "2 AAACCTGAGACTGTAA-34 donor1 CD3    1023       \n",
       "3 AAACCTGAGAGCCCAA-5  donor1 CD3    1598       \n",
       "4 AAACCTGAGAGCTGCA-24 donor1 CD3     298       \n",
       "5 AAACCTGAGAGGGATA-8  donor1 CD3    1036       \n",
       "6 AAACCTGAGAGTGAGA-23 donor1 CD3    1729       "
      ]
     },
     "metadata": {},
     "output_type": "display_data"
    }
   ],
   "source": [
    "all_features <-\n",
    "    all_donors %>%\n",
    "    select(`barcode`, `donor`, `CD3`:`HLA-DR`) %>%\n",
    "    gather(\n",
    "        key=\"Marker\",\n",
    "        value=\"PExpression\",\n",
    "        factor_key=TRUE,\n",
    "        `CD3`:`HLA-DR`\n",
    "    )\n",
    "\n",
    "all_features %>% head"
   ]
  },
  {
   "cell_type": "code",
   "execution_count": 6,
   "metadata": {},
   "outputs": [
    {
     "data": {
      "text/html": [
       "<table>\n",
       "<thead><tr><th scope=col>barcode</th><th scope=col>donor</th><th scope=col>dextramer</th><th scope=col>binder</th></tr></thead>\n",
       "<tbody>\n",
       "\t<tr><td>AAACCTGAGACAAAGG-4             </td><td>donor1                         </td><td>A0101_VTEHDTLLY_IE-1_CMV_binder</td><td>FALSE                          </td></tr>\n",
       "\t<tr><td>AAACCTGAGACTGTAA-34            </td><td>donor1                         </td><td>A0101_VTEHDTLLY_IE-1_CMV_binder</td><td>FALSE                          </td></tr>\n",
       "\t<tr><td>AAACCTGAGAGCCCAA-5             </td><td>donor1                         </td><td>A0101_VTEHDTLLY_IE-1_CMV_binder</td><td>FALSE                          </td></tr>\n",
       "\t<tr><td>AAACCTGAGAGCTGCA-24            </td><td>donor1                         </td><td>A0101_VTEHDTLLY_IE-1_CMV_binder</td><td>FALSE                          </td></tr>\n",
       "\t<tr><td>AAACCTGAGAGGGATA-8             </td><td>donor1                         </td><td>A0101_VTEHDTLLY_IE-1_CMV_binder</td><td>FALSE                          </td></tr>\n",
       "\t<tr><td>AAACCTGAGAGTGAGA-23            </td><td>donor1                         </td><td>A0101_VTEHDTLLY_IE-1_CMV_binder</td><td>FALSE                          </td></tr>\n",
       "</tbody>\n",
       "</table>\n"
      ],
      "text/latex": [
       "\\begin{tabular}{r|llll}\n",
       " barcode & donor & dextramer & binder\\\\\n",
       "\\hline\n",
       "\t AAACCTGAGACAAAGG-4                      & donor1                                  & A0101\\_VTEHDTLLY\\_IE-1\\_CMV\\_binder & FALSE                                  \\\\\n",
       "\t AAACCTGAGACTGTAA-34                     & donor1                                  & A0101\\_VTEHDTLLY\\_IE-1\\_CMV\\_binder & FALSE                                  \\\\\n",
       "\t AAACCTGAGAGCCCAA-5                      & donor1                                  & A0101\\_VTEHDTLLY\\_IE-1\\_CMV\\_binder & FALSE                                  \\\\\n",
       "\t AAACCTGAGAGCTGCA-24                     & donor1                                  & A0101\\_VTEHDTLLY\\_IE-1\\_CMV\\_binder & FALSE                                  \\\\\n",
       "\t AAACCTGAGAGGGATA-8                      & donor1                                  & A0101\\_VTEHDTLLY\\_IE-1\\_CMV\\_binder & FALSE                                  \\\\\n",
       "\t AAACCTGAGAGTGAGA-23                     & donor1                                  & A0101\\_VTEHDTLLY\\_IE-1\\_CMV\\_binder & FALSE                                  \\\\\n",
       "\\end{tabular}\n"
      ],
      "text/markdown": [
       "\n",
       "| barcode | donor | dextramer | binder |\n",
       "|---|---|---|---|\n",
       "| AAACCTGAGACAAAGG-4              | donor1                          | A0101_VTEHDTLLY_IE-1_CMV_binder | FALSE                           |\n",
       "| AAACCTGAGACTGTAA-34             | donor1                          | A0101_VTEHDTLLY_IE-1_CMV_binder | FALSE                           |\n",
       "| AAACCTGAGAGCCCAA-5              | donor1                          | A0101_VTEHDTLLY_IE-1_CMV_binder | FALSE                           |\n",
       "| AAACCTGAGAGCTGCA-24             | donor1                          | A0101_VTEHDTLLY_IE-1_CMV_binder | FALSE                           |\n",
       "| AAACCTGAGAGGGATA-8              | donor1                          | A0101_VTEHDTLLY_IE-1_CMV_binder | FALSE                           |\n",
       "| AAACCTGAGAGTGAGA-23             | donor1                          | A0101_VTEHDTLLY_IE-1_CMV_binder | FALSE                           |\n",
       "\n"
      ],
      "text/plain": [
       "  barcode             donor  dextramer                       binder\n",
       "1 AAACCTGAGACAAAGG-4  donor1 A0101_VTEHDTLLY_IE-1_CMV_binder FALSE \n",
       "2 AAACCTGAGACTGTAA-34 donor1 A0101_VTEHDTLLY_IE-1_CMV_binder FALSE \n",
       "3 AAACCTGAGAGCCCAA-5  donor1 A0101_VTEHDTLLY_IE-1_CMV_binder FALSE \n",
       "4 AAACCTGAGAGCTGCA-24 donor1 A0101_VTEHDTLLY_IE-1_CMV_binder FALSE \n",
       "5 AAACCTGAGAGGGATA-8  donor1 A0101_VTEHDTLLY_IE-1_CMV_binder FALSE \n",
       "6 AAACCTGAGAGTGAGA-23 donor1 A0101_VTEHDTLLY_IE-1_CMV_binder FALSE "
      ]
     },
     "metadata": {},
     "output_type": "display_data"
    }
   ],
   "source": [
    "all_binders <-\n",
    "    all_donors %>%\n",
    "    select(`barcode`, `donor`, contains('_binder')) %>%\n",
    "    gather(\n",
    "       key=`dextramer`,\n",
    "       value=`binder`,\n",
    "       `A0101_VTEHDTLLY_IE-1_CMV_binder`:`NR(B0801)_AAKGRGAAL_NC_binder`,\n",
    "       factor_key=TRUE\n",
    "    ) %>%\n",
    "    mutate(`binder`=as.factor(`binder`))\n",
    "\n",
    "all_binders %>% head"
   ]
  },
  {
   "cell_type": "code",
   "execution_count": 7,
   "metadata": {},
   "outputs": [],
   "source": [
    "save(\n",
    "    file='../data/all_donors.RData',\n",
    "    all_donors,\n",
    "    all_binders,\n",
    "    all_features,\n",
    "    all_tcrs\n",
    ")"
   ]
  }
 ],
 "metadata": {
  "kernelspec": {
   "display_name": "R",
   "language": "R",
   "name": "ir"
  },
  "language_info": {
   "codemirror_mode": "r",
   "file_extension": ".r",
   "mimetype": "text/x-r-source",
   "name": "R",
   "pygments_lexer": "r",
   "version": "3.5.1"
  }
 },
 "nbformat": 4,
 "nbformat_minor": 2
}
