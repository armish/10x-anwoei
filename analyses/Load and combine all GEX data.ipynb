{
 "cells": [
  {
   "cell_type": "code",
   "execution_count": 1,
   "metadata": {},
   "outputs": [],
   "source": [
    "library('Seurat')\n",
    "\n",
    "library('tidyr')\n",
    "library('dplyr')\n",
    "library('magrittr')\n",
    "library('ggplot2')"
   ]
  },
  {
   "cell_type": "code",
   "execution_count": 2,
   "metadata": {},
   "outputs": [],
   "source": [
    "load_donor_data <- function(donor) {\n",
    "    scrna <- \n",
    "        Read10X_h5(\n",
    "            sprintf('../data//vdj_v1_hs_aggregated_%s_filtered_feature_bc_matrix.h5', donor)\n",
    "        )\n",
    "    \n",
    "    s_data <-\n",
    "        CreateSeuratObject(\n",
    "            counts=scrna$`Gene Expression`,\n",
    "            project=donor\n",
    "        )\n",
    "    \n",
    "    return(s_data)\n",
    "}"
   ]
  },
  {
   "cell_type": "code",
   "execution_count": 3,
   "metadata": {},
   "outputs": [
    {
     "name": "stderr",
     "output_type": "stream",
     "text": [
      "Genome matrix has multiple modalities, returning a list of matrices for this genome\n",
      "Genome matrix has multiple modalities, returning a list of matrices for this genome\n",
      "Genome matrix has multiple modalities, returning a list of matrices for this genome\n",
      "Genome matrix has multiple modalities, returning a list of matrices for this genome\n"
     ]
    },
    {
     "data": {
      "text/plain": [
       "An object of class Seurat \n",
       "33538 features across 237883 samples within 1 assay \n",
       "Active assay: RNA (33538 features)"
      ]
     },
     "metadata": {},
     "output_type": "display_data"
    }
   ],
   "source": [
    "all_gex <- \n",
    "    merge(\n",
    "        load_donor_data('donor1'),\n",
    "        y=c(load_donor_data('donor2'), load_donor_data('donor3'), load_donor_data('donor4')),\n",
    "        add.cell.ids = c(\"donor1\", \"donor2\", \"donor3\", \"donor4\"),\n",
    "        project=\"10X_anwoei\"\n",
    "    )\n",
    "\n",
    "all_gex"
   ]
  },
  {
   "cell_type": "code",
   "execution_count": 4,
   "metadata": {},
   "outputs": [],
   "source": [
    "save(\n",
    "    file=\"../data/all_gex.Rdata\",\n",
    "    all_gex\n",
    ")"
   ]
  }
 ],
 "metadata": {
  "kernelspec": {
   "display_name": "R",
   "language": "R",
   "name": "ir"
  },
  "language_info": {
   "codemirror_mode": "r",
   "file_extension": ".r",
   "mimetype": "text/x-r-source",
   "name": "R",
   "pygments_lexer": "r",
   "version": "3.5.1"
  }
 },
 "nbformat": 4,
 "nbformat_minor": 2
}
